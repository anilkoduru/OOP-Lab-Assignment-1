{
  "nbformat": 4,
  "nbformat_minor": 0,
  "metadata": {
    "colab": {
      "name": "Anil_20bcs072_OOPTask5.ipynb",
      "provenance": [],
      "collapsed_sections": [],
      "authorship_tag": "ABX9TyMbOWg4XVWgZv0tF8LEG7AH",
      "include_colab_link": true
    },
    "kernelspec": {
      "name": "python3",
      "display_name": "Python 3"
    },
    "language_info": {
      "name": "python"
    }
  },
  "cells": [
    {
      "cell_type": "markdown",
      "metadata": {
        "id": "view-in-github",
        "colab_type": "text"
      },
      "source": [
        "<a href=\"https://colab.research.google.com/github/anilkoduru/OOP-Lab-Assignments/blob/main/Anil_20bcs072_OOPTask5.ipynb\" target=\"_parent\"><img src=\"https://colab.research.google.com/assets/colab-badge.svg\" alt=\"Open In Colab\"/></a>"
      ]
    },
    {
      "cell_type": "code",
      "metadata": {
        "colab": {
          "base_uri": "https://localhost:8080/",
          "height": 0
        },
        "id": "UkPPVyXyqfAq",
        "outputId": "45646f20-9f43-407b-a704-a74484bf9885"
      },
      "source": [
        "from abc import ABC, abstractmethod\n",
        "import math\n",
        "class shape(ABC):\n",
        "    def __init__(self, shape):\n",
        "        self.shape = shape\n",
        "    @abstractmethod\n",
        "    def area(self):\n",
        "        pass\n",
        "class rectangle(shape):\n",
        "    def __init__(self, length, breadth):\n",
        "        Shape.__init__(self,'rectangle')\n",
        "        self.length = length\n",
        "        self.breadth = breadth\n",
        "    def area(self):\n",
        "        return self.length*self.breadth\n",
        "class circle(shape):\n",
        "    def __init__(self, radius):\n",
        "        Shape.__init__(self,'circle')\n",
        "        self.radius = radius\n",
        "    def area(self):\n",
        "        return round((math.pi)*(self.radius*2),3)\n",
        "class square(shape):\n",
        "    def __init__(self, side):\n",
        "        Shape.__init__(self,'square')\n",
        "        self.side = side\n",
        "    def area(self):\n",
        "        return self.side*self.side\n",
        "\n",
        "s = square(10)\n",
        "print(\"Area of square is\",s.area())\n",
        "r = rectangle(10,20)\n",
        "print(\"Area of rectangle is\",r.area())\n",
        "c = circle(5)\n",
        "print(\"Area of circle is\",c.area())"
      ],
      "execution_count": 16,
      "outputs": [
        {
          "output_type": "stream",
          "name": "stdout",
          "text": [
            "Area of square is 100\n",
            "Area of rectangle is 200\n",
            "Area of circle is 31.416\n"
          ]
        }
      ]
    },
    {
      "cell_type": "code",
      "metadata": {
        "colab": {
          "base_uri": "https://localhost:8080/",
          "height": 0
        },
        "id": "d1F1F2Lpqe0A",
        "outputId": "6f01b167-5f77-4ba3-80f9-9862d01e2d2f"
      },
      "source": [
        "class Travel():\n",
        "  def __init__(self,travel):\n",
        "    self.travel = travel\n",
        "  def number_of_passangers(self):\n",
        "    pass\n",
        "  def distance(self):\n",
        "    pass\n",
        "  def mode(self):\n",
        "    pass\n",
        "class train(Travel):\n",
        "  def __init__(self,total_passangers):\n",
        "    self.total_passangers = total_passangers\n",
        "  def cost_of_transport(self):\n",
        "    print(self.total_passangers*60)\n",
        "class bus(Travel):\n",
        "  def __init__(self,total_passangers):\n",
        "    self.total_passangers = total_passangers\n",
        "  def cost_of_transport(self):\n",
        "    print(self.total_passangers*100)\n",
        "\n",
        "t = train(4)\n",
        "t.cost_of_transport()\n",
        "\n",
        "b = bus(4)\n",
        "b.cost_of_transport()"
      ],
      "execution_count": 4,
      "outputs": [
        {
          "output_type": "stream",
          "name": "stdout",
          "text": [
            "240\n",
            "400\n"
          ]
        }
      ]
    },
    {
      "cell_type": "code",
      "metadata": {
        "colab": {
          "base_uri": "https://localhost:8080/",
          "height": 0
        },
        "id": "6Q5kz_kbNHLm",
        "outputId": "508db428-2fd1-43a9-e7fc-412d6cd0ae5e"
      },
      "source": [
        "class Car:\n",
        "  def __init__(self,model):\n",
        "    self.model = model\n",
        "  def swap(self,x):\n",
        "    c=self.model\n",
        "    self.model=x;\n",
        "    x=c\n",
        "\n",
        "c1=Car(\"18kh143hk231\")\n",
        "c2=Car(\"18kh142hk123\")\n",
        "c1.swap(\"18kh142hk123\")\n",
        "print(c1.model)\n",
        "c2.swap(\"18kh143hk231\")\n",
        "print(c2.model)"
      ],
      "execution_count": 8,
      "outputs": [
        {
          "output_type": "stream",
          "name": "stdout",
          "text": [
            "18kh142hk123\n",
            "18kh143hk231\n"
          ]
        }
      ]
    }
  ]
}