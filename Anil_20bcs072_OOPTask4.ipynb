{
  "nbformat": 4,
  "nbformat_minor": 0,
  "metadata": {
    "colab": {
      "name": "Anil_20bcs072_OOPTask4.ipynb",
      "provenance": [],
      "authorship_tag": "ABX9TyODrwNcCFiQ4Hs8IawkgWPO",
      "include_colab_link": true
    },
    "kernelspec": {
      "name": "python3",
      "display_name": "Python 3"
    },
    "language_info": {
      "name": "python"
    }
  },
  "cells": [
    {
      "cell_type": "markdown",
      "metadata": {
        "id": "view-in-github",
        "colab_type": "text"
      },
      "source": [
        "<a href=\"https://colab.research.google.com/github/anilkoduru/OOP-Lab-Assignments/blob/main/Anil_20bcs072_OOPTask4.ipynb\" target=\"_parent\"><img src=\"https://colab.research.google.com/assets/colab-badge.svg\" alt=\"Open In Colab\"/></a>"
      ]
    },
    {
      "cell_type": "code",
      "metadata": {
        "colab": {
          "base_uri": "https://localhost:8080/",
          "height": 0
        },
        "id": "K57-_NXjG42I",
        "outputId": "3943b92c-e33b-4100-8e15-1884108d3f1a"
      },
      "source": [
        "class node:\n",
        "  def __init__(self,data):\n",
        "    self.data=data\n",
        "    self.next=0\n",
        "class stack:\n",
        "  def __init__(self):\n",
        "    self.head=0\n",
        "  def is_stack_empty(self):\n",
        "    if self.head==0:\n",
        "      return True\n",
        "  def push(self,data):\n",
        "    if self.head==0:\n",
        "      self.head=node(data)\n",
        "    else:\n",
        "      newnode = node(data)\n",
        "      newnode.next = self.head\n",
        "      self.head = newnode\n",
        "  def pop(self):\n",
        "    if self.is_stack_empty():\n",
        "      print(\"NO elements in the stack\")\n",
        "    else:\n",
        "      pop = self.head\n",
        "      self.head=self.head.next\n",
        "      pop.next = 0\n",
        "  def display(self):\n",
        "    temp = self.head\n",
        "    if self.is_stack_empty():\n",
        "      print(\"NO elements to print\")\n",
        "    else:\n",
        "      while(temp!=0):\n",
        "        print(temp.data,\"->\",end=\"\")\n",
        "        temp = temp.next\n",
        "    print(\"\\n\")\n",
        "a = stack()\n",
        "a.is_stack_empty()\n",
        "a.push(1)\n",
        "a.push(11)\n",
        "a.push(111)\n",
        "a.push(1111) \n",
        "a.display()\n",
        "a.pop() \n",
        "a.display()"
      ],
      "execution_count": 14,
      "outputs": [
        {
          "output_type": "stream",
          "name": "stdout",
          "text": [
            "1111 ->111 ->11 ->1 ->\n",
            "\n",
            "111 ->11 ->1 ->\n",
            "\n"
          ]
        }
      ]
    },
    {
      "cell_type": "code",
      "metadata": {
        "colab": {
          "base_uri": "https://localhost:8080/",
          "height": 0
        },
        "id": "8o4VbEaNWu2e",
        "outputId": "2c5f5f16-ef8a-41a2-f845-c7aec00ef3f3"
      },
      "source": [
        "class rectangle:\n",
        "  def __init__(self,length,breadth):\n",
        "    self.length=length\n",
        "    self.breadth=breadth\n",
        "  def area(self):\n",
        "    print(\"Area of the retangle is\",self.length*self.breadth)\n",
        "obj = rectangle(20,5)\n",
        "obj.area()\n",
        "    "
      ],
      "execution_count": 15,
      "outputs": [
        {
          "output_type": "stream",
          "name": "stdout",
          "text": [
            "Area of the retangle is 100\n"
          ]
        }
      ]
    },
    {
      "cell_type": "code",
      "metadata": {
        "colab": {
          "base_uri": "https://localhost:8080/",
          "height": 0
        },
        "id": "ROU0rKXIgpn8",
        "outputId": "f41730c3-f9fb-4a19-df80-726f09cc2aeb"
      },
      "source": [
        "class Queue:\n",
        "    def __init__(self):\n",
        "      self.queue = []\n",
        "    def is_empty(self):\n",
        "      if self.queue == []:\n",
        "        return True\n",
        "    def enqueue(self, data):\n",
        "      self.queue.append(data)\n",
        "    def dequeue(self):\n",
        "      if q.is_empty():\n",
        "        print('queue is empty.')\n",
        "      else:\n",
        "        print(\"dequed element is\",self.queue.pop(0))\n",
        "    def display(self):\n",
        "      print(self.queue)\n",
        "\n",
        "q = Queue()\n",
        "q.enqueue(11)\n",
        "q.enqueue(21)\n",
        "q.enqueue(31)\n",
        "q.enqueue(41)\n",
        "q.display()\n",
        "q.dequeue()\n",
        "q.display()\n"
      ],
      "execution_count": 17,
      "outputs": [
        {
          "output_type": "stream",
          "name": "stdout",
          "text": [
            "[11, 21, 31, 41]\n",
            "dequed element is 11\n",
            "[21, 31, 41]\n"
          ]
        }
      ]
    }
  ]
}