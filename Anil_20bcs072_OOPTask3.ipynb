{
  "nbformat": 4,
  "nbformat_minor": 0,
  "metadata": {
    "colab": {
      "name": "Anil_20bcs072_OOPTask3.ipynb",
      "provenance": [],
      "authorship_tag": "ABX9TyOVr4qtbaXos674ZRGz0DlO",
      "include_colab_link": true
    },
    "kernelspec": {
      "name": "python3",
      "display_name": "Python 3"
    },
    "language_info": {
      "name": "python"
    }
  },
  "cells": [
    {
      "cell_type": "markdown",
      "metadata": {
        "id": "view-in-github",
        "colab_type": "text"
      },
      "source": [
        "<a href=\"https://colab.research.google.com/github/anilkoduru/OOP-Lab-Assignments/blob/main/Anil_20bcs072_OOPTask3.ipynb\" target=\"_parent\"><img src=\"https://colab.research.google.com/assets/colab-badge.svg\" alt=\"Open In Colab\"/></a>"
      ]
    },
    {
      "cell_type": "code",
      "metadata": {
        "colab": {
          "base_uri": "https://localhost:8080/"
        },
        "id": "fwMUVwnSIMCB",
        "outputId": "31304606-8e4c-45b3-f17c-d633a84503ed"
      },
      "source": [
        "#1st problem\n",
        "class student:\n",
        "  def __init__(self,name,reg_no,age,gender,branch,sem):\n",
        "    self.name = name\n",
        "    self.reg_no = reg_no\n",
        "    self.age = age\n",
        "    self.gender = gender\n",
        "    self.branch = branch\n",
        "    self.sem = sem\n",
        "\n",
        "class StudentResultInfo(student):\n",
        "  def __init__(self,name,reg_no,age,gender,branch,sem,total_marks,percentage,grade):\n",
        "    student.__init__(self,name,reg_no,age,gender,branch,sem)\n",
        "    self.total_marks = total_marks\n",
        "    self.percentage = percentage\n",
        "    self.grade = grade\n",
        "     \n",
        "  def display(self):\n",
        "    print(\"name:\", self.name)\n",
        "    print(\"reg_no:\", self.reg_no)\n",
        "    print(\"age:\", self.age)\n",
        "    print(\"gender:\", self.gender)\n",
        "    print(\"branch:\", self.branch)\n",
        "    print(\"sem:\", self.sem)\n",
        "    print(\"total_marks:\", self.total_marks)\n",
        "    print(\"percentage:\", self.percentage)\n",
        "    print(\"grade:\", self.grade)\n",
        "  \n",
        "Stu = StudentResultInfo(\"Anil\",72,19,\"male\",\"cse\",3,550,80,8.5)\n",
        "Stu.display()"
      ],
      "execution_count": 36,
      "outputs": [
        {
          "output_type": "stream",
          "name": "stdout",
          "text": [
            "name: Anil\n",
            "reg_no: 72\n",
            "age: 19\n",
            "gender: male\n",
            "branch: cse\n",
            "sem: 3\n",
            "total_marks: 550\n",
            "percentage: 80\n",
            "grade: 8.5\n"
          ]
        }
      ]
    },
    {
      "cell_type": "code",
      "metadata": {
        "colab": {
          "base_uri": "https://localhost:8080/"
        },
        "id": "I7M2qivSB_zj",
        "outputId": "99b5f60f-54a7-46c3-a74b-775ad73c5373"
      },
      "source": [
        "#2nd problem\n",
        "class document:\n",
        "  def __init__(self,creator,discription,size):\n",
        "    self.creator = creator\n",
        "    self.discription = discription\n",
        "    self.size = size\n",
        "    self.threshold = 100\n",
        "  def check(self):\n",
        "    if self.size > self.threshold:\n",
        "      print(\"The size of the file is beyond the threshold size\")\n",
        "      return False\n",
        "    else:\n",
        "      print(\"Yes,the file is accepted\")\n",
        "      return True\n",
        "  def display(self):\n",
        "    print(\"file creator = \",self.creator)\n",
        "    print(\"file discription = \",self.discription)\n",
        "    print(\"file size = \",self.size)\n",
        "\n",
        "class pdf(document):\n",
        "  def __init__(self,creator,discription,size):\n",
        "    document.__init__(self,creator,discription,size)\n",
        "\n",
        "class picture(document):\n",
        "  def __init__(self,creator,discription,dimension,size):\n",
        "    document.__init__(self,creator,discription,size)\n",
        "    self.dimension = dimension\n",
        "  def check_dim(self):\n",
        "    if k == True:\n",
        "      if self.dimension > 6237:\n",
        "        print(\"High dimension picture\")\n",
        "      else:\n",
        "        print(\"yes,the picture is accepted\")\n",
        "    else:\n",
        "      print(\"File is not accepted because of its size\")\n",
        "\n",
        "p = pdf(\"ABCD\",\"about oop\",101)\n",
        "p.check()\n",
        "p.display()\n",
        "print(\"----------------------------------\")\n",
        "pic = picture(\"EFGH\",\"graph of fourier\",6235,1)\n",
        "k = pic.check()\n",
        "pic.display()\n",
        "pic.check_dim()\n"
      ],
      "execution_count": 24,
      "outputs": [
        {
          "output_type": "stream",
          "name": "stdout",
          "text": [
            "The size of the file is beyond the threshold size\n",
            "file creator =  ABCD\n",
            "file discription =  about oop\n",
            "file size =  101\n",
            "----------------------------------\n",
            "Yes,the file is accepted\n",
            "file creator =  EFGH\n",
            "file discription =  graph of fourier\n",
            "file size =  1\n",
            "yes,the picture is accepted\n"
          ]
        }
      ]
    },
    {
      "cell_type": "code",
      "metadata": {
        "colab": {
          "base_uri": "https://localhost:8080/"
        },
        "id": "sIXOtodhsfu_",
        "outputId": "831d866c-5c29-44d5-d289-aa27d41079d3"
      },
      "source": [
        "#3rd problem\n",
        "class vehicle:\n",
        "  def __init__(self,name,mileage,capacity):\n",
        "    self.name = name\n",
        "    self.mileage = mileage\n",
        "    self.capacity = capacity\n",
        "  def fair(self):\n",
        "    if self.name == \"bus\":\n",
        "      fair = self.capacity*100\n",
        "      total_amount = fair + 0.1*fair\n",
        "      print(total_amount)\n",
        "    else:\n",
        "      fair = self.capacity*100\n",
        "      print(fair)\n",
        "   \n",
        "class bus(vehicle):\n",
        "  def __init__(self,name,mileage,capaicty):\n",
        "    vehicle.__init__(self,name,mileage,capaicty)\n",
        "\n",
        "v = bus(\"bus\",10,50)\n",
        "v.fair()"
      ],
      "execution_count": 32,
      "outputs": [
        {
          "output_type": "stream",
          "name": "stdout",
          "text": [
            "5500.0\n"
          ]
        }
      ]
    }
  ]
}