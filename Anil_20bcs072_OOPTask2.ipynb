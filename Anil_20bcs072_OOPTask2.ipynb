{
  "nbformat": 4,
  "nbformat_minor": 0,
  "metadata": {
    "colab": {
      "name": "Anil_20bcs072_OOPTask2.ipynb",
      "provenance": [],
      "collapsed_sections": [],
      "authorship_tag": "ABX9TyMEdKWkEentRsDEa9NaDMs6",
      "include_colab_link": true
    },
    "kernelspec": {
      "name": "python3",
      "display_name": "Python 3"
    },
    "language_info": {
      "name": "python"
    }
  },
  "cells": [
    {
      "cell_type": "markdown",
      "metadata": {
        "id": "view-in-github",
        "colab_type": "text"
      },
      "source": [
        "<a href=\"https://colab.research.google.com/github/anilkoduru/OOP-Lab-Assignments/blob/main/Anil_20bcs072_OOPTask2.ipynb\" target=\"_parent\"><img src=\"https://colab.research.google.com/assets/colab-badge.svg\" alt=\"Open In Colab\"/></a>"
      ]
    },
    {
      "cell_type": "code",
      "metadata": {
        "colab": {
          "base_uri": "https://localhost:8080/"
        },
        "id": "xlLQVQUHYoBB",
        "outputId": "326ac13c-19bd-4103-a5d9-e2dcfe94823a"
      },
      "source": [
        "#1st problem\n",
        "import math\n",
        "class circle():\n",
        "  def __init__(self,radius):\n",
        "    self.radius = radius\n",
        "  def area(self):\n",
        "    return math.pi*(self.radius**2)\n",
        "  def perimeter(self):\n",
        "    return 2*math.pi*self.radius\n",
        "\n",
        "rad = int(input(\"Enter the radius of a circle : \"))\n",
        "c = circle(rad)\n",
        "print(c.area())\n",
        "print(c.perimeter())"
      ],
      "execution_count": 5,
      "outputs": [
        {
          "output_type": "stream",
          "name": "stdout",
          "text": [
            "Enter the radius of a circle : 3\n",
            "28.274333882308138\n",
            "18.84955592153876\n"
          ]
        }
      ]
    },
    {
      "cell_type": "code",
      "metadata": {
        "colab": {
          "base_uri": "https://localhost:8080/"
        },
        "id": "ZAnOj4gM3Q3t",
        "outputId": "cd1206cf-16ca-459d-b1c9-1c0411d01f30"
      },
      "source": [
        "#2nd problem\n",
        "class details:\n",
        "  def __init__(self,name,emp_id,branch,salary):\n",
        "    self.name = name\n",
        "    self.id = emp_id\n",
        "    self.branch = branch\n",
        "    self.salary = salary\n",
        "\n",
        "  def display(self):\n",
        "    print(\"Details of the faculty :\",self.name,self.id,self.branch,self.salary)\n",
        "\n",
        "d1 = details(\"ABCD\",\"ABCD1234\",\"CSE\",150000)\n",
        "d2 = details(\"EFGH\",\"EFGH5678\",\"ECE\",125000)\n",
        "d3 = details(\"IJKL\",\"IJKL9012\",\"DSAI\",150000)\n",
        "d4 = details(\"MNOP\",\"MNOP3456\",\"MECH\",120000)\n",
        "d5 = details(\"QRST\",\"QRST7890\",\"CIVIL\",110000)\n",
        "\n",
        "d1.display()\n",
        "d2.display()\n",
        "d3.display()\n",
        "d4.display()\n",
        "d5.display()"
      ],
      "execution_count": null,
      "outputs": [
        {
          "output_type": "stream",
          "name": "stdout",
          "text": [
            "Details of the faculty : ABCD ABCD1234 CSE 150000\n",
            "Details of the faculty : EFGH EFGH5678 ECE 125000\n",
            "Details of the faculty : IJKL IJKL9012 DSAI 150000\n",
            "Details of the faculty : MNOP MNOP3456 MECH 120000\n",
            "Details of the faculty : QRST QRST7890 CIVIL 110000\n"
          ]
        }
      ]
    },
    {
      "cell_type": "code",
      "metadata": {
        "colab": {
          "base_uri": "https://localhost:8080/"
        },
        "id": "jXo0pjslNWVK",
        "outputId": "0e07b1fa-9b37-4ff0-b435-59bf0bf1d066"
      },
      "source": [
        "#3rd problem\n",
        "class account:\n",
        "  def __init__(self,Acc_no,Acc_holder_name,Amount):\n",
        "    self.number = Acc_no\n",
        "    self.name = Acc_holder_name\n",
        "    self.amount = Amount\n",
        "  def Deposit(self,Amount):\n",
        "    self.amount += Amount\n",
        "  def Withdraw(self,Amount):\n",
        "    if Amount > self.amount:\n",
        "      print(\"Insufficient balance\")\n",
        "      exit\n",
        "    else:\n",
        "      self.amount -= Amount\n",
        "  def Checkbalance(self):\n",
        "    print(self.amount)\n",
        "  def Accountdetails(self):\n",
        "    print(\"Account details are:\")\n",
        "    print(self.number,self.name,self.amount)\n",
        "  \n",
        "acc = account(\"01234\",\"ABCD\",1200)\n",
        "acc.Deposit(100)\n",
        "acc.Checkbalance()\n",
        "acc.Withdraw(1200)\n",
        "acc.Checkbalance()\n",
        "acc.Withdraw(200)\n",
        "acc.Accountdetails()"
      ],
      "execution_count": null,
      "outputs": [
        {
          "output_type": "stream",
          "name": "stdout",
          "text": [
            "1300\n",
            "100\n",
            "Insufficient balance\n",
            "Account details are:\n",
            "01234 ABCD 100\n"
          ]
        }
      ]
    },
    {
      "cell_type": "code",
      "metadata": {
        "colab": {
          "base_uri": "https://localhost:8080/"
        },
        "id": "mGR-3chu6xcJ",
        "outputId": "fb25cf91-88ff-422d-c9e5-eff27e79c5f2"
      },
      "source": [
        "#4th problem\n",
        "def display():\n",
        "  print(name,USN)\n",
        "  for i in range(0,3):\n",
        "    print(subjects[i] , \"-\" ,marks[i])\n",
        "\n",
        "subjects = []\n",
        "marks = []\n",
        "name = input(\"Enter the name of the student : \")\n",
        "USN = input(\"Enter USN of the student : \")\n",
        "for j in range(0,3):\n",
        "  subject  = input(\"Enter name of the subject : \")\n",
        "  subjects.append(subject)\n",
        "  mark = input(\"Enter the mark of the subject : \")\n",
        "  marks.append(mark)\n",
        "\n",
        "display() "
      ],
      "execution_count": null,
      "outputs": [
        {
          "output_type": "stream",
          "name": "stdout",
          "text": [
            "Enter the name of the student : ABCD\n",
            "Enter USN of the student : 1450248\n",
            "Enter name of the subject : Maths\n",
            "Enter the mark of the subject : 75\n",
            "Enter name of the subject : Phy\n",
            "Enter the mark of the subject : 72\n",
            "Enter name of the subject : Che\n",
            "Enter the mark of the subject : 70\n",
            "ABCD 1450248\n",
            "Maths - 75\n",
            "Phy - 72\n",
            "Che - 70\n"
          ]
        }
      ]
    },
    {
      "cell_type": "code",
      "metadata": {
        "id": "c9Wb7zNj9Th9",
        "colab": {
          "base_uri": "https://localhost:8080/"
        },
        "outputId": "9262945b-0951-4fff-e493-db4dfa1f300e"
      },
      "source": [
        "#5th problem\n",
        "class hospital:\n",
        "  count1 , count2 = 0 , 0\n",
        "  def __init__(self,name,date_of_admission):\n",
        "    self.name = name\n",
        "    self.admission = date_of_admission\n",
        "    list_of_symptoms = []\n",
        "    n = int(input(\"Total number of symptoms : \"))\n",
        "    for i in range(0,n):\n",
        "      symptom = input()\n",
        "      list_of_symptoms.append(symptom)\n",
        "    print(list_of_symptoms)\n",
        "    oxygen_level = input(\"Enter oxygen level : \")\n",
        "    if oxygen_level < \"90\":\n",
        "      print(\"Oxygen mask is required\")\n",
        "      hospital.count1 = hospital.count1 + 1\n",
        "    else:\n",
        "      print(\"Normal observation\")\n",
        "      hospital.count2 = hospital.count2 + 1\n",
        "    data_of_discharge = input(\"Estimated data of discahrge : \")\n",
        "  def data(self):\n",
        "    print(\"Number of patients in oxygen support : \" ,hospital.count1)\n",
        "    print(\"Number of patients in observation : \" ,hospital.count2)\n",
        "    print(\"Total number of patients : \",hospital.count1+hospital.count2)\n",
        "\n",
        "p1 = hospital(\"ABCD\",\"12-08-2021\")\n",
        "p2 = hospital(\"EFGH\",\"13-08-2021\")\n",
        "P3 = hospital(\"IJKL\",\"13-08-2021\")\n",
        "p1.data()"
      ],
      "execution_count": null,
      "outputs": [
        {
          "output_type": "stream",
          "name": "stdout",
          "text": [
            "Total number of symptoms : 2\n",
            "cold\n",
            "fever\n",
            "['cold', 'fever']\n",
            "Enter oxygen level : 93\n",
            "Normal observation\n",
            "Estimated data of discahrge : 20-08-2021\n",
            "Total number of symptoms : 3\n",
            "cold\n",
            "fever\n",
            "cough\n",
            "['cold', 'fever', 'cough']\n",
            "Enter oxygen level : 89\n",
            "Oxygen mask is required\n",
            "Estimated data of discahrge : 27-08-2021\n",
            "Total number of symptoms : 2\n",
            "cold\n",
            "bodypains\n",
            "['cold', 'bodypains']\n",
            "Enter oxygen level : 94\n",
            "Normal observation\n",
            "Estimated data of discahrge : 21-08-2021\n",
            "Number of patients in oxygen support :  1\n",
            "Number of patients in observation :  2\n",
            "Total number of patients :  3\n"
          ]
        }
      ]
    },
    {
      "cell_type": "code",
      "metadata": {
        "colab": {
          "base_uri": "https://localhost:8080/"
        },
        "id": "uhBmtjWW5Y_G",
        "outputId": "c326dbdd-deff-48ba-fb42-485ac9fc75ec"
      },
      "source": [
        "#6th problem\n",
        "class time:\n",
        "  def __init__(self):\n",
        "    self.hours , self.minutes , self.seconds = 0 , 0 , 0\n",
        "  def __init__(self,hours,minutes,seconds):\n",
        "    self.hours = hours\n",
        "    self.minutes = minutes\n",
        "    self.seconds = seconds\n",
        "  def order(self):\n",
        "    print(self.hours,\":\",self.minutes,\":\",self.seconds)\n",
        "\n",
        "t = time(10,21,52)\n",
        "t.order()"
      ],
      "execution_count": 11,
      "outputs": [
        {
          "output_type": "stream",
          "name": "stdout",
          "text": [
            "10 : 21 : 52\n"
          ]
        }
      ]
    },
    {
      "cell_type": "code",
      "metadata": {
        "colab": {
          "base_uri": "https://localhost:8080/"
        },
        "id": "e6bgRrCGuO7a",
        "outputId": "b562c42b-5174-41c8-e00d-47145a35e2b1"
      },
      "source": [
        "#7th problem\n",
        "class student:\n",
        "  def __init__(self,name,age,roll_no):\n",
        "    self.name = name\n",
        "    self.age = age\n",
        "    self.num = roll_no\n",
        "  def compare(self,std):\n",
        "    if self.age == std.age:\n",
        "      print(\"EQUAL\")\n",
        "    else:\n",
        "      print(\"NOT EQUAL\")\n",
        "\n",
        "std1 = student(\"rahul\" , 21 , 33)\n",
        "std2 = student(\"rohit\", 22 , 72)\n",
        "std1.compare(std2)"
      ],
      "execution_count": 4,
      "outputs": [
        {
          "output_type": "stream",
          "name": "stdout",
          "text": [
            "NOT EQUAL\n"
          ]
        }
      ]
    },
    {
      "cell_type": "code",
      "metadata": {
        "colab": {
          "base_uri": "https://localhost:8080/"
        },
        "id": "1_0R-7_xzeOu",
        "outputId": "74a8f2c7-2734-4baf-ad9d-781d7519e7a1"
      },
      "source": [
        "#8th problem\n",
        "class student:\n",
        "  sem = 3\n",
        "  institute = \"IIIT Dharwad\"\n",
        "  def __init__(self,name,usn):\n",
        "    self.name = name\n",
        "    self.usn = usn\n",
        "  def accessinstance(self):\n",
        "    print(\"student name : \",self.name)\n",
        "    print(\"student usn : \" , self.usn)\n",
        "  def accessvariable(self):\n",
        "    print(\"student sem : \",student.sem)\n",
        "    print(\"student institute : \",student.institute)\n",
        "\n",
        "stu = student(\"Anil\",72)\n",
        "stu.accessinstance()\n",
        "stu.accessvariable()"
      ],
      "execution_count": 8,
      "outputs": [
        {
          "output_type": "stream",
          "name": "stdout",
          "text": [
            "student name :  Anil\n",
            "student usn :  72\n",
            "student sem :  3\n",
            "student institute :  IIIT Dharwad\n"
          ]
        }
      ]
    },
    {
      "cell_type": "code",
      "metadata": {
        "colab": {
          "base_uri": "https://localhost:8080/"
        },
        "id": "PBmFewJUFhcx",
        "outputId": "89c5bcb8-73d3-4cdb-ce65-43b9397f33c3"
      },
      "source": [
        "#9th problem\n",
        "class student:\n",
        "  name = \"Anil\"\n",
        "  roll_no = 72\n",
        "  sem = 3\n",
        "  def details(self):\n",
        "    print(student.name,student.roll_no,student.sem)\n",
        "  class laptop:\n",
        "    def __init__(self):\n",
        "      self.brand = \"hp\"\n",
        "      self.cpu = \"i5\"\n",
        "      self.ram = \"8gb\"\n",
        "    def show(self):\n",
        "      print(self.brand,self.cpu,self.ram)\n",
        "\n",
        "s = student()\n",
        "s.details()\n",
        "l = student.laptop()\n",
        "l.show()"
      ],
      "execution_count": 16,
      "outputs": [
        {
          "output_type": "stream",
          "name": "stdout",
          "text": [
            "Anil 72 3\n",
            "hp i5 8gb\n"
          ]
        }
      ]
    }
  ]
}