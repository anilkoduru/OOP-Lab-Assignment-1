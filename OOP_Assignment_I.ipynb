{
  "nbformat": 4,
  "nbformat_minor": 0,
  "metadata": {
    "colab": {
      "name": "OOP Assignment -I.ipynb",
      "provenance": [],
      "authorship_tag": "ABX9TyMOEUP1UEfbmPKRKBj8x9Qm",
      "include_colab_link": true
    },
    "kernelspec": {
      "name": "python3",
      "display_name": "Python 3"
    },
    "language_info": {
      "name": "python"
    }
  },
  "cells": [
    {
      "cell_type": "markdown",
      "metadata": {
        "id": "view-in-github",
        "colab_type": "text"
      },
      "source": [
        "<a href=\"https://colab.research.google.com/github/anilkoduru/OOP-Lab-Assignment-1/blob/main/OOP_Assignment_I.ipynb\" target=\"_parent\"><img src=\"https://colab.research.google.com/assets/colab-badge.svg\" alt=\"Open In Colab\"/></a>"
      ]
    },
    {
      "cell_type": "code",
      "metadata": {
        "colab": {
          "base_uri": "https://localhost:8080/"
        },
        "id": "KRJEt7HcvuU1",
        "outputId": "f73852a5-5049-4c14-a90b-951122afd25c"
      },
      "source": [
        "#1st problem \n",
        "\n",
        "year = int(input(\"Enter the year to check whether it is a leap year or not :\"))\n",
        "if year%4==0 and year%100!=0 or year%400==0:\n",
        "  print(True)\n",
        "else:\n",
        "  print(False)"
      ],
      "execution_count": null,
      "outputs": [
        {
          "output_type": "stream",
          "name": "stdout",
          "text": [
            "Enter the year to check whether it is a leap year or not :1000\n",
            "False\n"
          ]
        }
      ]
    },
    {
      "cell_type": "code",
      "metadata": {
        "colab": {
          "base_uri": "https://localhost:8080/"
        },
        "id": "rg0kxsWDxSFI",
        "outputId": "3e830e82-34ee-4959-ef40-fb63d5e18625"
      },
      "source": [
        "#2nd problem\n",
        "\n",
        "n = int(input(\"Enter the number :\"))\n",
        "if n%2!=0:\n",
        "  print(\"Weird\")\n",
        "elif n in range(2,6):\n",
        "  print(\"Not Weird\")\n",
        "elif n in range(6,21):\n",
        "  print(\"Weird\")\n",
        "else:\n",
        "  print(\"Not weird\")"
      ],
      "execution_count": null,
      "outputs": [
        {
          "output_type": "stream",
          "name": "stdout",
          "text": [
            "Enter the number :1\n",
            "Weird\n"
          ]
        }
      ]
    },
    {
      "cell_type": "code",
      "metadata": {
        "colab": {
          "base_uri": "https://localhost:8080/"
        },
        "id": "HkX1P9_n0Cvi",
        "outputId": "7e6ae5b8-3980-4798-d533-73d7888fa973"
      },
      "source": [
        "#3rd problem\n",
        "\n",
        "Arrivals = ['Hardik', 'Rahul', 'Virat', 'Rishabh', 'Mahi', 'Rohit', 'Rahane']\n",
        "count = len(Arrivals)\n",
        "n = ((int)(count/2))\n",
        "for i in range(n,count-1):\n",
        "  print(Arrivals[i])\n",
        "  i = i+1"
      ],
      "execution_count": null,
      "outputs": [
        {
          "output_type": "stream",
          "name": "stdout",
          "text": [
            "Rishabh\n",
            "Mahi\n",
            "Rohit\n"
          ]
        }
      ]
    },
    {
      "cell_type": "code",
      "metadata": {
        "id": "Z2Gq5q3T1wp3",
        "colab": {
          "base_uri": "https://localhost:8080/"
        },
        "outputId": "1162e09c-a38e-4522-9994-addaf6610dde"
      },
      "source": [
        "#4th problem\n",
        "\n",
        "doc_list = ['The Learn Python Challenge Rohit', 'They bought a car', 'bangalore']\n",
        "n=len(doc_list)\n",
        "\n",
        "element=input(\"Enter the word to be searched: \")\n",
        "element=element.lower()\n",
        "\n",
        "\n",
        "for x in range(n):\n",
        " str=doc_list[x]\n",
        " st=str.split()\n",
        " for y in range(len(st)):\n",
        "   if(st[y].lower()==element):\n",
        "     print(\"Element found:\",st[y])"
      ],
      "execution_count": 11,
      "outputs": [
        {
          "output_type": "stream",
          "name": "stdout",
          "text": [
            "Enter the word to be searched: bangalore\n",
            "Element found: bangalore\n"
          ]
        }
      ]
    },
    {
      "cell_type": "code",
      "metadata": {
        "colab": {
          "base_uri": "https://localhost:8080/"
        },
        "id": "t8dwYOYd2Iq3",
        "outputId": "ba4715c9-f151-4254-ef27-e2abff4bdb4d"
      },
      "source": [
        "#5th problem\n",
        "\n",
        "BP = int(input(\"Enter the basic pay :\"))\n",
        "DA= BP*(40/100)\n",
        "HRA= BP*(20/100)\n",
        "GP = BP + DA + HRA\n",
        "print(\"The gross pay is {0}\".format(GP))"
      ],
      "execution_count": null,
      "outputs": [
        {
          "output_type": "stream",
          "name": "stdout",
          "text": [
            "Enter the basic pay :25000\n",
            "The gross pay is 40000.0\n"
          ]
        }
      ]
    }
  ]
}